{
 "cells": [
  {
   "cell_type": "markdown",
   "source": [
    "# Problem: Can rooks attack one another?\n",
    "\n",
    "You are given a configuration of a chessboard with rooks in a 2 dimensional array.\n",
    "\n",
    "Example Input:  \n",
    "[[1, 0, 0, 0],  \n",
    " [0, 1, 0, 0],  \n",
    " [0, 0, 0, 1],  \n",
    " [0, 0, 0, 0]]\n",
    "\n",
    "1 represents that a rook is in the corresponding space on the board, and 0 represents that there's nothing there.\n",
    "\n",
    "***Remember, rooks are able to move horizontally and vertically over any number of spaces.***\n",
    "\n",
    "Write a function, rooks_are_safe(input) which returns True if none of the rooks can attack each other."
   ],
   "metadata": {}
  },
  {
   "cell_type": "markdown",
   "source": [
    "### NOTE: Make sure to run your program once you write it :)"
   ],
   "metadata": {}
  },
  {
   "cell_type": "markdown",
   "source": [
    "# Implement your function below."
   ],
   "metadata": {}
  },
  {
   "cell_type": "code",
   "execution_count": null,
   "source": [
    "# Input:\r\n",
    "#  chessboard: A 2-dimensional array that represents.  Example below.\r\n",
    "#  [[1, 0, 0, 0],\r\n",
    "#  [0, 1, 0, 0],\r\n",
    "#  [0, 0, 0, 1],\r\n",
    "#  [0, 0, 0, 0]]\r\n",
    "# Returns:\r\n",
    "#  True if none of the rooks can attack each other.\r\n",
    "#  False if there is at least one pair of rooks that can attack each other.\r\n",
    "def rooks_are_safe(chessboard):\r\n",
    "    return True"
   ],
   "outputs": [],
   "metadata": {
    "collapsed": true
   }
  },
  {
   "cell_type": "markdown",
   "source": [
    "# Find the 2nd largest value in array (without built-in function)"
   ],
   "metadata": {}
  },
  {
   "cell_type": "code",
   "execution_count": null,
   "source": [
    "# Input:\r\n",
    "#  a: The given list/array of integers.  Example: [1, -2, 3, 4]\r\n",
    "# Returns:\r\n",
    "#  The second largest number in the list or None if\r\n",
    "#  the array's length is only 1 or 2.\r\n",
    "def second_largest(given_list):\r\n",
    "    largest = None\r\n",
    "    second_largest = None\r\n",
    "    if len(given_list)>2:\r\n",
    "        second_largest = None\r\n",
    "    elif given_list[-2]:\r\n",
    "        second_largest = given_list[-2]\r\n",
    "    return second_largest \r\n",
    "    return -1 # A fake return value."
   ],
   "outputs": [],
   "metadata": {}
  }
 ],
 "metadata": {
  "anaconda-cloud": {},
  "kernelspec": {
   "name": "python3",
   "display_name": "Python 3.6.12 64-bit ('cv2': conda)"
  },
  "language_info": {
   "codemirror_mode": {
    "name": "ipython",
    "version": 3
   },
   "file_extension": ".py",
   "mimetype": "text/x-python",
   "name": "python",
   "nbconvert_exporter": "python",
   "pygments_lexer": "ipython3",
   "version": "3.6.12"
  },
  "interpreter": {
   "hash": "4de5967dfcdedf31f8a0771a036d514b4c35d93e3ae865b4aad5baa2ba13ec09"
  }
 },
 "nbformat": 4,
 "nbformat_minor": 1
}
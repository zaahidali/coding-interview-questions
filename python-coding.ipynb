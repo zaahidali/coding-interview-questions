{
 "cells": [
  {
   "cell_type": "markdown",
   "source": [
    "# Interview coding challeges"
   ],
   "metadata": {}
  },
  {
   "cell_type": "markdown",
   "source": [
    "## Problem 2:\r\n",
    "### Find the 2nd largest value in array (without built-in function)"
   ],
   "metadata": {}
  },
  {
   "cell_type": "code",
   "execution_count": 10,
   "source": [
    "# Input:\r\n",
    "#  a: The given list/array of integers.  Example: [1, -2, 3, 4]\r\n",
    "# Returns:\r\n",
    "#  The second largest number in the list or None if\r\n",
    "#  the array's length is only 1 or 2.\r\n",
    "def second_largest(given_list):\r\n",
    "    largest = None\r\n",
    "    second_largest = None\r\n",
    "    for current_num in given_list:\r\n",
    "        if largest == None:\r\n",
    "            largest = current_num\r\n",
    "        elif current_num > largest:\r\n",
    "            second_largest = largest\r\n",
    "            largest = current_num\r\n",
    "        elif second_largest == None:\r\n",
    "            second_largest = current_num\r\n",
    "        elif current_num > second_largest:\r\n",
    "            second_largest = current_num\r\n",
    "    return second_largest\r\n"
   ],
   "outputs": [],
   "metadata": {}
  },
  {
   "cell_type": "markdown",
   "source": [
    "# Use the code below to test your function"
   ],
   "metadata": {}
  },
  {
   "cell_type": "code",
   "execution_count": 11,
   "source": [
    "print('The second largest number in [1, 3, 4, 5, 0, 2] is (should be 4):')\r\n",
    "print(second_largest([1, 3, 4, 5, 0, 2]))"
   ],
   "outputs": [
    {
     "output_type": "stream",
     "name": "stdout",
     "text": [
      "The second largest number in [1, 3, 4, 5, 0, 2] is (should be 4):\n",
      "4\n"
     ]
    }
   ],
   "metadata": {}
  },
  {
   "cell_type": "code",
   "execution_count": 13,
   "source": [
    "print('The second largest number in [-2, -1] is: (should be -2)')\r\n",
    "print(second_largest([-2, -1]))"
   ],
   "outputs": [
    {
     "output_type": "stream",
     "name": "stdout",
     "text": [
      "The second largest number in [-2, -1] is: (should be -2)\n",
      "-2\n"
     ]
    }
   ],
   "metadata": {}
  },
  {
   "cell_type": "code",
   "execution_count": 14,
   "source": [
    "print('The second largest number in [2, 2, 1] is: (should be 2)')\r\n",
    "print(second_largest([2, 2, 1]))"
   ],
   "outputs": [
    {
     "output_type": "stream",
     "name": "stdout",
     "text": [
      "The second largest number in [2, 2, 1] is: (should be 2)\n",
      "2\n"
     ]
    }
   ],
   "metadata": {}
  },
  {
   "cell_type": "markdown",
   "source": [
    "## Problem 3: \r\n",
    "### You're given a 2D array with the same number of rows and columns.  Write a function that adds up the diagonal elements and returns the sum.\r\n",
    "\r\n",
    "For example, you're given the following 2D array:\r\n",
    "\r\n",
    "[[1, 2, 3],  \r\n",
    " [4, 5, 6],  \r\n",
    " [7, 8, 9]]\r\n",
    "\r\n",
    "The diagonal elements are 1, 5, and 9, so your function should return 15."
   ],
   "metadata": {}
  },
  {
   "cell_type": "code",
   "execution_count": 3,
   "source": [
    "# Modify the following function:\r\n",
    "def diagonal_sum(given_2d):\r\n",
    "    total = 0\r\n",
    "    for i in range(len(given_2d)):\r\n",
    "        total += given_2d[i][i]\r\n",
    "    print(total)    "
   ],
   "outputs": [],
   "metadata": {}
  },
  {
   "cell_type": "markdown",
   "source": [
    "## Use the below code to test "
   ],
   "metadata": {}
  },
  {
   "cell_type": "code",
   "execution_count": 5,
   "source": [
    "print(\"\"\"\r\n",
    "The diagonal sum of [[1, 0],\r\n",
    "                     [0, 1]] is: (Should be 2)\"\"\")\r\n",
    "diagonal_sum([[1, 0],\r\n",
    "              [0, 1]])"
   ],
   "outputs": [
    {
     "output_type": "stream",
     "name": "stdout",
     "text": [
      "\n",
      "The diagonal sum of [[1, 0],\n",
      "                     [0, 1]] is: (Should be 2)\n",
      "2\n"
     ]
    }
   ],
   "metadata": {}
  },
  {
   "cell_type": "code",
   "execution_count": null,
   "source": [
    "print(\"\"\"\r\n",
    "The diagonal sum of [[1, 2, 3],\r\n",
    "                     [4, 5, 6],\r\n",
    "                     [7, 8, 9]] is: (Should be 15)\"\"\")\r\n",
    "diagonal_sum([[1, 2, 3],\r\n",
    "              [4, 5, 6],\r\n",
    "              [7, 8, 9]])"
   ],
   "outputs": [],
   "metadata": {}
  }
 ],
 "metadata": {
  "anaconda-cloud": {},
  "kernelspec": {
   "name": "python3",
   "display_name": "Python 3.6.12 64-bit ('cv2': conda)"
  },
  "language_info": {
   "codemirror_mode": {
    "name": "ipython",
    "version": 3
   },
   "file_extension": ".py",
   "mimetype": "text/x-python",
   "name": "python",
   "nbconvert_exporter": "python",
   "pygments_lexer": "ipython3",
   "version": "3.6.12"
  },
  "interpreter": {
   "hash": "4de5967dfcdedf31f8a0771a036d514b4c35d93e3ae865b4aad5baa2ba13ec09"
  }
 },
 "nbformat": 4,
 "nbformat_minor": 1
}
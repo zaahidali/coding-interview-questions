{
 "cells": [
  {
   "cell_type": "markdown",
   "source": [
    "# Problem: Can rooks attack one another?\n",
    "\n",
    "You are given a configuration of a chessboard with rooks in a 2 dimensional array.\n",
    "\n",
    "Example Input:  \n",
    "[[1, 0, 0, 0],  \n",
    " [0, 1, 0, 0],  \n",
    " [0, 0, 0, 1],  \n",
    " [0, 0, 0, 0]]\n",
    "\n",
    "1 represents that a rook is in the corresponding space on the board, and 0 represents that there's nothing there.\n",
    "\n",
    "***Remember, rooks are able to move horizontally and vertically over any number of spaces.***\n",
    "\n",
    "Write a function, rooks_are_safe(input) which returns True if none of the rooks can attack each other."
   ],
   "metadata": {}
  },
  {
   "cell_type": "markdown",
   "source": [
    "### NOTE: Make sure to run your program once you write it :)"
   ],
   "metadata": {}
  },
  {
   "cell_type": "markdown",
   "source": [
    "# Implement your function below."
   ],
   "metadata": {}
  },
  {
   "cell_type": "code",
   "execution_count": null,
   "source": [
    "# Input:\r\n",
    "#  chessboard: A 2-dimensional array that represents.  Example below.\r\n",
    "#  [[1, 0, 0, 0],\r\n",
    "#  [0, 1, 0, 0],\r\n",
    "#  [0, 0, 0, 1],\r\n",
    "#  [0, 0, 0, 0]]\r\n",
    "# Returns:\r\n",
    "#  True if none of the rooks can attack each other.\r\n",
    "#  False if there is at least one pair of rooks that can attack each other.\r\n",
    "def rooks_are_safe(chessboard):\r\n",
    "    return True"
   ],
   "outputs": [],
   "metadata": {
    "collapsed": true
   }
  },
  {
   "cell_type": "markdown",
   "source": [
    "# Find the 2nd largest value in array (without built-in function)"
   ],
   "metadata": {}
  },
  {
   "cell_type": "code",
   "execution_count": null,
   "source": [
    "# Input:\r\n",
    "#  a: The given list/array of integers.  Example: [1, -2, 3, 4]\r\n",
    "# Returns:\r\n",
    "#  The second largest number in the list or None if\r\n",
    "#  the array's length is only 1 or 2.\r\n",
    "def second_largest(given_list):\r\n",
    "    largest = None\r\n",
    "    second_largest = None\r\n",
    "    if len(given_list)>2:\r\n",
    "        second_largest = None\r\n",
    "    elif given_list[-2]:\r\n",
    "        second_largest = given_list[-2]\r\n",
    "    return second_largest \r\n",
    "    return -1 # A fake return value."
   ],
   "outputs": [],
   "metadata": {}
  },
  {
   "cell_type": "markdown",
   "source": [
    "### Problem 3: You're given a 2D array with the same number of rows and columns.  Write a function that adds up the diagonal elements and returns the sum.\r\n",
    "\r\n",
    "For example, you're given the following 2D array:\r\n",
    "\r\n",
    "[[1, 2, 3],  \r\n",
    " [4, 5, 6],  \r\n",
    " [7, 8, 9]]\r\n",
    "\r\n",
    "The diagonal elements are 1, 5, and 9, so your function should return 15."
   ],
   "metadata": {}
  },
  {
   "cell_type": "code",
   "execution_count": 3,
   "source": [
    "# Modify the following function:\r\n",
    "def diagonal_sum(given_2d):\r\n",
    "    total = 0\r\n",
    "    for i in range(len(given_2d)):\r\n",
    "        total += given_2d[i][i]\r\n",
    "    print(total)    "
   ],
   "outputs": [],
   "metadata": {}
  },
  {
   "cell_type": "markdown",
   "source": [
    "## Use the below code to test "
   ],
   "metadata": {}
  },
  {
   "cell_type": "code",
   "execution_count": 5,
   "source": [
    "print(\"\"\"\r\n",
    "The diagonal sum of [[1, 0],\r\n",
    "                     [0, 1]] is: (Should be 2)\"\"\")\r\n",
    "diagonal_sum([[1, 0],\r\n",
    "              [0, 1]])"
   ],
   "outputs": [
    {
     "output_type": "stream",
     "name": "stdout",
     "text": [
      "\n",
      "The diagonal sum of [[1, 0],\n",
      "                     [0, 1]] is: (Should be 2)\n",
      "2\n"
     ]
    }
   ],
   "metadata": {}
  },
  {
   "cell_type": "code",
   "execution_count": null,
   "source": [
    "print(\"\"\"\r\n",
    "The diagonal sum of [[1, 2, 3],\r\n",
    "                     [4, 5, 6],\r\n",
    "                     [7, 8, 9]] is: (Should be 15)\"\"\")\r\n",
    "diagonal_sum([[1, 2, 3],\r\n",
    "              [4, 5, 6],\r\n",
    "              [7, 8, 9]])"
   ],
   "outputs": [],
   "metadata": {}
  }
 ],
 "metadata": {
  "anaconda-cloud": {},
  "kernelspec": {
   "name": "python3",
   "display_name": "Python 3.6.12 64-bit ('cv2': conda)"
  },
  "language_info": {
   "codemirror_mode": {
    "name": "ipython",
    "version": 3
   },
   "file_extension": ".py",
   "mimetype": "text/x-python",
   "name": "python",
   "nbconvert_exporter": "python",
   "pygments_lexer": "ipython3",
   "version": "3.6.12"
  },
  "interpreter": {
   "hash": "4de5967dfcdedf31f8a0771a036d514b4c35d93e3ae865b4aad5baa2ba13ec09"
  }
 },
 "nbformat": 4,
 "nbformat_minor": 1
}